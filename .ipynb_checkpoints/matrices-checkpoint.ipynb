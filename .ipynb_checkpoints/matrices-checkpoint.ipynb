{
 "cells": [
  {
   "cell_type": "code",
   "execution_count": 1,
   "id": "079ad15a-3876-4573-b5a4-bb04ab5c5a70",
   "metadata": {},
   "outputs": [],
   "source": [
    "import numpy as np\n",
    "from matplotlib import pyplot as plt"
   ]
  },
  {
   "cell_type": "code",
   "execution_count": 2,
   "id": "b8613ee3-50f7-41ce-bd7c-2db94e4fcfbe",
   "metadata": {},
   "outputs": [],
   "source": [
    "%matplotlib inline"
   ]
  },
  {
   "cell_type": "code",
   "execution_count": 3,
   "id": "c4a42b3b-009a-4e57-a60c-487c0c4a4a4e",
   "metadata": {},
   "outputs": [],
   "source": [
    "plt.rcParams['figure.dpi'] = 150.\n",
    "plt.rcParams['figure.figsize'] = (3, 3)"
   ]
  },
  {
   "cell_type": "code",
   "execution_count": 4,
   "id": "111e876f-8150-4028-801a-37e92deeba77",
   "metadata": {},
   "outputs": [],
   "source": [
    "def plot_vectors(ax, vs, origin=True):\n",
    "    xy = np.zeros((len(vs), 2))\n",
    "    ax.quiver(xy[:, 0], xy[:, 1], vs[:, 0], vs[:, 1], units=\"xy\", angles=\"xy\", scale_units=\"xy\", scale=1, zorder=2)\n",
    "    ax.grid(visible=True, zorder=1)\n",
    "    xmin, ymin = vs.min(axis=0)\n",
    "    xmax, ymax = vs.max(axis=0)\n",
    "    ax.set_xlim(xmin - 1, xmax + 1)\n",
    "    ax.set_ylim(ymin - 1, ymax + 1)\n",
    "    if origin:\n",
    "        ax.scatter([0], [0], c=\"k\", zorder=2)"
   ]
  },
  {
   "cell_type": "markdown",
   "id": "1be65200-539e-4677-b0c2-5257e428d3aa",
   "metadata": {},
   "source": [
    "# Matrices transform vectors"
   ]
  },
  {
   "cell_type": "code",
   "execution_count": 5,
   "id": "844ff961-0c8b-42b5-8ae9-e9181b91e06c",
   "metadata": {},
   "outputs": [],
   "source": [
    "v1 = np.array([0.5, 0.7])\n",
    "v2 = np.array([0.2, -0.5])\n",
    "v3 = np.array([-0.8, -0.1])"
   ]
  },
  {
   "cell_type": "code",
   "execution_count": 6,
   "id": "da0756e0-8a3a-4964-b19a-c07027f67cbc",
   "metadata": {},
   "outputs": [
    {
     "name": "stdout",
     "output_type": "stream",
     "text": [
      "[[ 0.5  0.7]\n",
      " [ 0.2 -0.5]\n",
      " [-0.8 -0.1]]\n"
     ]
    }
   ],
   "source": [
    "vs = np.vstack([v1, v2, v3])\n",
    "print(vs)"
   ]
  },
  {
   "cell_type": "code",
   "execution_count": 7,
   "id": "ea87472d-d60b-4b01-a3e9-ad638f1af061",
   "metadata": {},
   "outputs": [
    {
     "data": {
      "image/png": "[encoded data removed]",
      "text/plain": [
       "<Figure size 450x450 with 1 Axes>"
      ]
     },
     "metadata": {
      "needs_background": "light"
     },
     "output_type": "display_data"
    }
   ],
   "source": [
    "fig, ax = plt.subplots(figsize=(3, 3))\n",
    "\n",
    "plot_vectors(ax, vs)"
   ]
  },
  {
   "cell_type": "code",
   "execution_count": 8,
   "id": "e7c11dce-5cbe-49e6-8371-2451f21b501b",
   "metadata": {},
   "outputs": [],
   "source": [
    "M = np.array([[-0.2, 0.4], \n",
    "              [0.3, 0.8]])"
   ]
  },
  {
   "cell_type": "code",
   "execution_count": 9,
   "id": "7741b933-4710-4035-9f64-efb5aef6feaf",
   "metadata": {},
   "outputs": [],
   "source": [
    "v1_trans = np.dot(M, v1)\n",
    "v2_trans = np.dot(M, v2)\n",
    "v3_trans = np.dot(M, v3)"
   ]
  },
  {
   "cell_type": "code",
   "execution_count": 10,
   "id": "bb697b84-8cb8-4d65-9fe9-3ada147ccb33",
   "metadata": {},
   "outputs": [
    {
     "name": "stdout",
     "output_type": "stream",
     "text": [
      "[[ 0.18  0.71]\n",
      " [-0.24 -0.34]\n",
      " [ 0.12 -0.32]]\n"
     ]
    }
   ],
   "source": [
    "vs_trans = np.vstack([v1_trans, v2_trans, v3_trans])\n",
    "print(vs_trans)"
   ]
  },
  {
   "cell_type": "code",
   "execution_count": 11,
   "id": "c8159bc8-48a2-4920-a8fc-badc3c2a95a9",
   "metadata": {},
   "outputs": [
    {
     "data": {
      "text/plain": [
       "array([[ 0.18,  0.71],\n",
       "       [-0.24, -0.34],\n",
       "       [ 0.12, -0.32]])"
      ]
     },
     "execution_count": 11,
     "metadata": {},
     "output_type": "execute_result"
    }
   ],
   "source": [
    "np.dot(M, vs.T).T  # make sure axes match"
   ]
  },
  {
   "cell_type": "code",
   "execution_count": 12,
   "id": "18b994ca-bf22-4d6a-9715-d4826405321d",
   "metadata": {},
   "outputs": [
    {
     "data": {
      "image/png": "[encoded data removed]",
      "text/plain": [
       "<Figure size 450x450 with 1 Axes>"
      ]
     },
     "metadata": {
      "needs_background": "light"
     },
     "output_type": "display_data"
    }
   ],
   "source": [
    "fig, ax = plt.subplots(figsize=(3, 3))\n",
    "plot_vectors(ax, vs_trans)"
   ]
  },
  {
   "cell_type": "markdown",
   "id": "3fac207b-cb51-4df4-b86e-71509ed78db2",
   "metadata": {},
   "source": [
    "# Matrices transform _space_"
   ]
  },
  {
   "cell_type": "code",
   "execution_count": 13,
   "id": "51bb5058-6b70-4501-be0d-035b614f801a",
   "metadata": {},
   "outputs": [],
   "source": [
    "xs, ys = np.meshgrid(np.arange(-5, 5), np.arange(-5, 5))"
   ]
  },
  {
   "cell_type": "code",
   "execution_count": 14,
   "id": "d257c9f0-0ed2-47f3-bd1c-b53b5e3b533b",
   "metadata": {},
   "outputs": [],
   "source": [
    "ps = np.vstack([xs.flatten(), ys.flatten()]).T"
   ]
  },
  {
   "cell_type": "code",
   "execution_count": 15,
   "id": "ab15ebe4-e337-4a0f-99b4-725890d1e0ff",
   "metadata": {},
   "outputs": [],
   "source": [
    "ps_trans = np.dot(M, ps.T).T"
   ]
  },
  {
   "cell_type": "code",
   "execution_count": 51,
   "id": "62933a6d-e84b-4ceb-a893-1e24b6b61f99",
   "metadata": {},
   "outputs": [
    {
     "data": {
      "text/plain": [
       "(-2.0, 2.0)"
      ]
     },
     "execution_count": 51,
     "metadata": {},
     "output_type": "execute_result"
    },
    {
     "data": {
      "image/png": "[encoded data removed]",
      "text/plain": [
       "<Figure size 450x450 with 1 Axes>"
      ]
     },
     "metadata": {
      "needs_background": "light"
     },
     "output_type": "display_data"
    }
   ],
   "source": [
    "fig, ax = plt.subplots()\n",
    "ax.scatter(*ps.T, c=\"k\")\n",
    "ax.scatter(*ps_trans.T, c=\"r\")\n",
    "plot_vectors(ax, M.T, origin=False)\n",
    "ax.set_xlim(-2, 2)\n",
    "ax.set_ylim(-2, 2)"
   ]
  },
  {
   "cell_type": "markdown",
   "id": "02adfabb-2dda-4589-8796-821739eaf2b0",
   "metadata": {},
   "source": [
    "## Eigendecomposition"
   ]
  },
  {
   "cell_type": "markdown",
   "id": "71ad0f67-ae3d-4c28-8015-34e3f89c3f89",
   "metadata": {},
   "source": [
    "Is there a more natural way to think about the transformation of space by a vector?"
   ]
  },
  {
   "cell_type": "code",
   "execution_count": 18,
   "id": "5141ed2f-f6e0-46cf-bdda-3ca4742cf12a",
   "metadata": {},
   "outputs": [],
   "source": [
    "w, v = np.linalg.eig(M)"
   ]
  },
  {
   "cell_type": "code",
   "execution_count": 32,
   "id": "c6c99620-49cc-4d3f-a94b-febbf076fd55",
   "metadata": {},
   "outputs": [
    {
     "data": {
      "text/plain": [
       "array([[ 0.29756708, -0.3083472 ],\n",
       "       [-0.08054862, -0.85433469]])"
      ]
     },
     "execution_count": 32,
     "metadata": {},
     "output_type": "execute_result"
    }
   ],
   "source": [
    "np.dot(M, v)"
   ]
  },
  {
   "cell_type": "code",
   "execution_count": 48,
   "id": "65133c16-4520-4ce6-8c51-bc1c5d4ade8e",
   "metadata": {},
   "outputs": [
    {
     "data": {
      "text/plain": [
       "array([[ 0.29756708, -0.3083472 ],\n",
       "       [-0.08054862, -0.85433469]])"
      ]
     },
     "execution_count": 48,
     "metadata": {},
     "output_type": "execute_result"
    }
   ],
   "source": [
    "w * v"
   ]
  },
  {
   "cell_type": "code",
   "execution_count": 54,
   "id": "dc64fb4c-1911-4b07-b922-6f9f3386b9bf",
   "metadata": {},
   "outputs": [
    {
     "data": {
      "text/plain": [
       "(-2.0, 2.0)"
      ]
     },
     "execution_count": 54,
     "metadata": {},
     "output_type": "execute_result"
    },
    {
     "data": {
      "image/png": "[encoded data removed]",
      "text/plain": [
       "<Figure size 450x450 with 1 Axes>"
      ]
     },
     "metadata": {
      "needs_background": "light"
     },
     "output_type": "display_data"
    }
   ],
   "source": [
    "fig, ax = plt.subplots()\n",
    "ax.scatter(*ps.T, c=\"k\")\n",
    "ax.scatter(*ps_trans.T, c=\"r\")\n",
    "plot_vectors(ax, (v * w).T, origin=False)\n",
    "ax.set_xlim(-2, 2)\n",
    "ax.set_ylim(-2, 2)"
   ]
  },
  {
   "cell_type": "code",
   "execution_count": null,
   "id": "116418d5-e8ef-4a38-b0ab-c43eb7148d43",
   "metadata": {},
   "outputs": [],
   "source": []
  }
 ],
 "metadata": {
  "kernelspec": {
   "display_name": "Python 3 (ipykernel)",
   "language": "python",
   "name": "python3"
  },
  "language_info": {
   "codemirror_mode": {
    "name": "ipython",
    "version": 3
   },
   "file_extension": ".py",
   "mimetype": "text/x-python",
   "name": "python",
   "nbconvert_exporter": "python",
   "pygments_lexer": "ipython3",
   "version": "3.10.5"
  }
 },
 "nbformat": 4,
 "nbformat_minor": 5
}
